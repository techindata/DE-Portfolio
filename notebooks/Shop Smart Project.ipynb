{
 "cells": [
  {
   "cell_type": "code",
   "execution_count": 0,
   "metadata": {
    "application/vnd.databricks.v1+cell": {
     "cellMetadata": {
      "byteLimit": 2048000,
      "rowLimit": 10000
     },
     "inputWidgets": {},
     "nuid": "e60571f6-07bf-4327-b5a3-b73804ea5acb",
     "showTitle": false,
     "tableResultSettingsMap": {},
     "title": ""
    }
   },
   "outputs": [
    {
     "data": {
      "text/plain": [
       "[FileInfo(path='dbfs:/Volumes/retail_catalog/raw/raw_data/customers.csv', name='customers.csv', size=2229, modificationTime=1761573816000),\n",
       " FileInfo(path='dbfs:/Volumes/retail_catalog/raw/raw_data/orders.csv', name='orders.csv', size=1345, modificationTime=1761573816000),\n",
       " FileInfo(path='dbfs:/Volumes/retail_catalog/raw/raw_data/products.csv', name='products.csv', size=1564, modificationTime=1761573816000)]"
      ]
     },
     "execution_count": 3,
     "metadata": {},
     "output_type": "execute_result"
    }
   ],
   "source": [
    "dbutils.fs.ls(\"/Volumes/retail_catalog/raw/raw_data/\")"
   ]
  },
  {
   "cell_type": "code",
   "execution_count": 0,
   "metadata": {
    "application/vnd.databricks.v1+cell": {
     "cellMetadata": {
      "byteLimit": 2048000,
      "rowLimit": 10000
     },
     "inputWidgets": {},
     "nuid": "c0822317-1e93-4d8f-bd99-58d143e03831",
     "showTitle": false,
     "tableResultSettingsMap": {},
     "title": ""
    }
   },
   "outputs": [
    {
     "data": {
      "text/html": [
       "<style scoped>\n",
       "  .table-result-container {\n",
       "    max-height: 300px;\n",
       "    overflow: auto;\n",
       "  }\n",
       "  table, th, td {\n",
       "    border: 1px solid black;\n",
       "    border-collapse: collapse;\n",
       "  }\n",
       "  th, td {\n",
       "    padding: 5px;\n",
       "  }\n",
       "  th {\n",
       "    text-align: left;\n",
       "  }\n",
       "</style><div class='table-result-container'><table class='table-result'><thead style='background-color: white'><tr><th>path</th><th>name</th><th>size</th><th>modificationTime</th></tr></thead><tbody><tr><td>dbfs:/Volumes/retail_catalog/raw/raw_data/customers.csv</td><td>customers.csv</td><td>2229</td><td>1761573816000</td></tr></tbody></table></div>"
      ]
     },
     "metadata": {
      "application/vnd.databricks.v1+output": {
       "addedWidgets": {},
       "aggData": [],
       "aggError": "",
       "aggOverflow": false,
       "aggSchema": [],
       "aggSeriesLimitReached": false,
       "aggType": "",
       "arguments": {},
       "columnCustomDisplayInfos": {},
       "data": [
        [
         "dbfs:/Volumes/retail_catalog/raw/raw_data/customers.csv",
         "customers.csv",
         2229,
         1761573816000
        ]
       ],
       "datasetInfos": [],
       "dbfsResultPath": null,
       "isJsonSchema": true,
       "metadata": {},
       "overflow": false,
       "plotOptions": {
        "customPlotOptions": {},
        "displayType": "table",
        "pivotAggregation": null,
        "pivotColumns": null,
        "xColumns": null,
        "yColumns": null
       },
       "removedWidgets": [],
       "schema": [
        {
         "metadata": "{}",
         "name": "path",
         "type": "\"string\""
        },
        {
         "metadata": "{}",
         "name": "name",
         "type": "\"string\""
        },
        {
         "metadata": "{}",
         "name": "size",
         "type": "\"long\""
        },
        {
         "metadata": "{}",
         "name": "modificationTime",
         "type": "\"long\""
        }
       ],
       "type": "table"
      }
     },
     "output_type": "display_data"
    }
   ],
   "source": [
    "display(dbutils.fs.ls(\"/Volumes/retail_catalog/raw/raw_data/customers.csv\"))"
   ]
  },
  {
   "cell_type": "code",
   "execution_count": 0,
   "metadata": {
    "application/vnd.databricks.v1+cell": {
     "cellMetadata": {
      "byteLimit": 2048000,
      "rowLimit": 10000
     },
     "inputWidgets": {},
     "nuid": "2df3a78a-b1a6-4af9-854d-3261d67a63ce",
     "showTitle": false,
     "tableResultSettingsMap": {},
     "title": ""
    }
   },
   "outputs": [
    {
     "name": "stdout",
     "output_type": "stream",
     "text": [
      "+-----------+-----------+--------------------+------+\n",
      "|customer_id|       name|               email|region|\n",
      "+-----------+-----------+--------------------+------+\n",
      "|          1| Customer 1|customer1@example...| South|\n",
      "|          2| Customer 2|customer2@example...|  East|\n",
      "|          3| Customer 3|customer3@example...|  West|\n",
      "|          4| Customer 4|customer4@example...| North|\n",
      "|          5| Customer 5|customer5@example...| South|\n",
      "|          6| Customer 6|customer6@example...|  East|\n",
      "|          7| Customer 7|customer7@example...|  West|\n",
      "|          8| Customer 8|customer8@example...| North|\n",
      "|          9| Customer 9|customer9@example...| South|\n",
      "|         10|Customer 10|customer10@exampl...|  East|\n",
      "|         11|Customer 11|customer11@exampl...|  West|\n",
      "|         12|Customer 12|customer12@exampl...| North|\n",
      "|         13|Customer 13|customer13@exampl...| South|\n",
      "|         14|Customer 14|customer14@exampl...|  East|\n",
      "|         15|Customer 15|customer15@exampl...|  West|\n",
      "|         16|Customer 16|customer16@exampl...| North|\n",
      "|         17|Customer 17|customer17@exampl...| South|\n",
      "|         18|Customer 18|customer18@exampl...|  East|\n",
      "|         19|Customer 19|customer19@exampl...|  West|\n",
      "|         20|Customer 20|customer20@exampl...| North|\n",
      "+-----------+-----------+--------------------+------+\n",
      "only showing top 20 rows\n"
     ]
    }
   ],
   "source": [
    "spark.read.csv(\"/Volumes/retail_catalog/raw/raw_data/customers.csv\", header = True).show()"
   ]
  },
  {
   "cell_type": "code",
   "execution_count": 0,
   "metadata": {
    "application/vnd.databricks.v1+cell": {
     "cellMetadata": {
      "byteLimit": 2048000,
      "rowLimit": 10000
     },
     "inputWidgets": {},
     "nuid": "238cff94-26b3-4195-b9f9-1198dac89caf",
     "showTitle": false,
     "tableResultSettingsMap": {},
     "title": ""
    }
   },
   "outputs": [],
   "source": [
    "from pyspark.sql.types import StructType, StructField, IntegerType, StringType, DoubleType, DataType\n",
    "\n",
    "\n",
    "#### Customers Schema\n",
    "customers_schema = StructType([\n",
    "  StructField(\"customer_id\", StringType(), True),\n",
    "  StructField(\"name\", StringType(), True),\n",
    "  StructField(\"email\", StringType(), True),\n",
    "  StructField(\"region\", StringType(), True)\n",
    "])\n",
    "\n",
    "#### Products Schema\n",
    "products_schema = StructType([\n",
    "    StructField(\"product_id\", StringType(), True),\n",
    "    StructField(\"name\", StringType(), True),\n",
    "    StructField(\"category\", StringType(), True),\n",
    "    StructField(\"price\", DoubleType(), True)\n",
    "])\n",
    "\n",
    "#### Orders Schema\n",
    "orders_schema = StructType([\n",
    "    StructField(\"order_id\", IntegerType(), True),\n",
    "    StructField(\"customer_id\", IntegerType(), True),\n",
    "    StructField(\"product_id\", IntegerType(), True),\n",
    "    StructField(\"quantity\", IntegerType(), True),\n",
    "    StructField(\"order_date\", DoubleType(), True)\n",
    "])"
   ]
  },
  {
   "cell_type": "code",
   "execution_count": 0,
   "metadata": {
    "application/vnd.databricks.v1+cell": {
     "cellMetadata": {
      "byteLimit": 2048000,
      "rowLimit": 10000
     },
     "inputWidgets": {},
     "nuid": "1b461daf-db4e-4f46-9878-f19279e9fb9b",
     "showTitle": true,
     "tableResultSettingsMap": {},
     "title": "Read all three raw files in Dataframes"
    }
   },
   "outputs": [],
   "source": [
    "#### Customers  \n",
    "df_customers = spark.read.schema(customers_schema).csv(\"/Volumes/retail_catalog/raw/raw_data/customers.csv\", header=True)\n",
    "\n",
    "#### Orders\n",
    "df_orders = spark.read.schema(orders_schema).csv(\"/Volumes/retail_catalog/raw/raw_data/orders.csv\", header=True)\n",
    "\n",
    "#### Products\n",
    "df_products = spark.read.schema(products_schema).csv(\"/Volumes/retail_catalog/raw/raw_data/products.csv\", header=True)\n"
   ]
  },
  {
   "cell_type": "code",
   "execution_count": 0,
   "metadata": {
    "application/vnd.databricks.v1+cell": {
     "cellMetadata": {
      "byteLimit": 2048000,
      "rowLimit": 10000
     },
     "inputWidgets": {},
     "nuid": "83fef516-2dbd-4776-b5e1-3223c101c493",
     "showTitle": true,
     "tableResultSettingsMap": {},
     "title": "Full Initial load and writing in Delta Tables"
    }
   },
   "outputs": [],
   "source": [
    "df_customers.write.format(\"delta\").mode(\"overwrite\").saveAsTable(\"retail_catalog.bronze.customers_delta\")\n",
    "\n",
    "df_orders.write.format(\"delta\").mode(\"overwrite\").saveAsTable(\"retail_catalog.bronze.orders_delta\")\n",
    "\n",
    "df_products.write.format(\"delta\").mode(\"overwrite\").saveAsTable(\"retail_catalog.bronze.products_delta\")\n",
    "\n"
   ]
  },
  {
   "cell_type": "code",
   "execution_count": 0,
   "metadata": {
    "application/vnd.databricks.v1+cell": {
     "cellMetadata": {
      "byteLimit": 2048000,
      "implicitDf": true,
      "rowLimit": 10000
     },
     "inputWidgets": {},
     "nuid": "2f1ba183-a892-4d48-95c5-1e2f8066751d",
     "showTitle": true,
     "tableResultSettingsMap": {},
     "title": "Verify Delta Tables"
    }
   },
   "outputs": [
    {
     "data": {
      "text/html": [
       "<style scoped>\n",
       "  .table-result-container {\n",
       "    max-height: 300px;\n",
       "    overflow: auto;\n",
       "  }\n",
       "  table, th, td {\n",
       "    border: 1px solid black;\n",
       "    border-collapse: collapse;\n",
       "  }\n",
       "  th, td {\n",
       "    padding: 5px;\n",
       "  }\n",
       "  th {\n",
       "    text-align: left;\n",
       "  }\n",
       "</style><div class='table-result-container'><table class='table-result'><thead style='background-color: white'><tr><th>customer_id</th><th>name</th><th>email</th><th>region</th></tr></thead><tbody><tr><td>1</td><td>Customer 1</td><td>customer1@example.com</td><td>South</td></tr><tr><td>2</td><td>Customer 2</td><td>customer2@example.com</td><td>East</td></tr><tr><td>3</td><td>Customer 3</td><td>customer3@example.com</td><td>West</td></tr><tr><td>4</td><td>Customer 4</td><td>customer4@example.com</td><td>North</td></tr><tr><td>5</td><td>Customer 5</td><td>customer5@example.com</td><td>South</td></tr><tr><td>6</td><td>Customer 6</td><td>customer6@example.com</td><td>East</td></tr><tr><td>7</td><td>Customer 7</td><td>customer7@example.com</td><td>West</td></tr><tr><td>8</td><td>Customer 8</td><td>customer8@example.com</td><td>North</td></tr><tr><td>9</td><td>Customer 9</td><td>customer9@example.com</td><td>South</td></tr><tr><td>10</td><td>Customer 10</td><td>customer10@example.com</td><td>East</td></tr><tr><td>11</td><td>Customer 11</td><td>customer11@example.com</td><td>West</td></tr><tr><td>12</td><td>Customer 12</td><td>customer12@example.com</td><td>North</td></tr><tr><td>13</td><td>Customer 13</td><td>customer13@example.com</td><td>South</td></tr><tr><td>14</td><td>Customer 14</td><td>customer14@example.com</td><td>East</td></tr><tr><td>15</td><td>Customer 15</td><td>customer15@example.com</td><td>West</td></tr><tr><td>16</td><td>Customer 16</td><td>customer16@example.com</td><td>North</td></tr><tr><td>17</td><td>Customer 17</td><td>customer17@example.com</td><td>South</td></tr><tr><td>18</td><td>Customer 18</td><td>customer18@example.com</td><td>East</td></tr><tr><td>19</td><td>Customer 19</td><td>customer19@example.com</td><td>West</td></tr><tr><td>20</td><td>Customer 20</td><td>customer20@example.com</td><td>North</td></tr><tr><td>21</td><td>Customer 21</td><td>customer21@example.com</td><td>South</td></tr><tr><td>22</td><td>Customer 22</td><td>customer22@example.com</td><td>East</td></tr><tr><td>23</td><td>Customer 23</td><td>customer23@example.com</td><td>West</td></tr><tr><td>24</td><td>Customer 24</td><td>customer24@example.com</td><td>North</td></tr><tr><td>25</td><td>Customer 25</td><td>customer25@example.com</td><td>South</td></tr><tr><td>26</td><td>Customer 26</td><td>customer26@example.com</td><td>East</td></tr><tr><td>27</td><td>Customer 27</td><td>customer27@example.com</td><td>West</td></tr><tr><td>28</td><td>Customer 28</td><td>customer28@example.com</td><td>North</td></tr><tr><td>29</td><td>Customer 29</td><td>customer29@example.com</td><td>South</td></tr><tr><td>30</td><td>Customer 30</td><td>customer30@example.com</td><td>East</td></tr><tr><td>31</td><td>Customer 31</td><td>customer31@example.com</td><td>West</td></tr><tr><td>32</td><td>Customer 32</td><td>customer32@example.com</td><td>North</td></tr><tr><td>33</td><td>Customer 33</td><td>customer33@example.com</td><td>South</td></tr><tr><td>34</td><td>Customer 34</td><td>customer34@example.com</td><td>East</td></tr><tr><td>35</td><td>Customer 35</td><td>customer35@example.com</td><td>West</td></tr><tr><td>36</td><td>Customer 36</td><td>customer36@example.com</td><td>North</td></tr><tr><td>37</td><td>Customer 37</td><td>customer37@example.com</td><td>South</td></tr><tr><td>38</td><td>Customer 38</td><td>customer38@example.com</td><td>East</td></tr><tr><td>39</td><td>Customer 39</td><td>customer39@example.com</td><td>West</td></tr><tr><td>40</td><td>Customer 40</td><td>customer40@example.com</td><td>North</td></tr><tr><td>41</td><td>Customer 41</td><td>customer41@example.com</td><td>South</td></tr><tr><td>42</td><td>Customer 42</td><td>customer42@example.com</td><td>East</td></tr><tr><td>43</td><td>Customer 43</td><td>customer43@example.com</td><td>West</td></tr><tr><td>44</td><td>Customer 44</td><td>customer44@example.com</td><td>North</td></tr><tr><td>45</td><td>Customer 45</td><td>customer45@example.com</td><td>South</td></tr><tr><td>46</td><td>Customer 46</td><td>customer46@example.com</td><td>East</td></tr><tr><td>47</td><td>Customer 47</td><td>customer47@example.com</td><td>West</td></tr><tr><td>48</td><td>Customer 48</td><td>customer48@example.com</td><td>North</td></tr><tr><td>49</td><td>Customer 49</td><td>customer49@example.com</td><td>South</td></tr><tr><td>50</td><td>Customer 50</td><td>customer50@example.com</td><td>East</td></tr></tbody></table></div>"
      ]
     },
     "metadata": {
      "application/vnd.databricks.v1+output": {
       "addedWidgets": {},
       "aggData": [],
       "aggError": "",
       "aggOverflow": false,
       "aggSchema": [],
       "aggSeriesLimitReached": false,
       "aggType": "",
       "arguments": {},
       "columnCustomDisplayInfos": {},
       "data": [
        [
         "1",
         "Customer 1",
         "customer1@example.com",
         "South"
        ],
        [
         "2",
         "Customer 2",
         "customer2@example.com",
         "East"
        ],
        [
         "3",
         "Customer 3",
         "customer3@example.com",
         "West"
        ],
        [
         "4",
         "Customer 4",
         "customer4@example.com",
         "North"
        ],
        [
         "5",
         "Customer 5",
         "customer5@example.com",
         "South"
        ],
        [
         "6",
         "Customer 6",
         "customer6@example.com",
         "East"
        ],
        [
         "7",
         "Customer 7",
         "customer7@example.com",
         "West"
        ],
        [
         "8",
         "Customer 8",
         "customer8@example.com",
         "North"
        ],
        [
         "9",
         "Customer 9",
         "customer9@example.com",
         "South"
        ],
        [
         "10",
         "Customer 10",
         "customer10@example.com",
         "East"
        ],
        [
         "11",
         "Customer 11",
         "customer11@example.com",
         "West"
        ],
        [
         "12",
         "Customer 12",
         "customer12@example.com",
         "North"
        ],
        [
         "13",
         "Customer 13",
         "customer13@example.com",
         "South"
        ],
        [
         "14",
         "Customer 14",
         "customer14@example.com",
         "East"
        ],
        [
         "15",
         "Customer 15",
         "customer15@example.com",
         "West"
        ],
        [
         "16",
         "Customer 16",
         "customer16@example.com",
         "North"
        ],
        [
         "17",
         "Customer 17",
         "customer17@example.com",
         "South"
        ],
        [
         "18",
         "Customer 18",
         "customer18@example.com",
         "East"
        ],
        [
         "19",
         "Customer 19",
         "customer19@example.com",
         "West"
        ],
        [
         "20",
         "Customer 20",
         "customer20@example.com",
         "North"
        ],
        [
         "21",
         "Customer 21",
         "customer21@example.com",
         "South"
        ],
        [
         "22",
         "Customer 22",
         "customer22@example.com",
         "East"
        ],
        [
         "23",
         "Customer 23",
         "customer23@example.com",
         "West"
        ],
        [
         "24",
         "Customer 24",
         "customer24@example.com",
         "North"
        ],
        [
         "25",
         "Customer 25",
         "customer25@example.com",
         "South"
        ],
        [
         "26",
         "Customer 26",
         "customer26@example.com",
         "East"
        ],
        [
         "27",
         "Customer 27",
         "customer27@example.com",
         "West"
        ],
        [
         "28",
         "Customer 28",
         "customer28@example.com",
         "North"
        ],
        [
         "29",
         "Customer 29",
         "customer29@example.com",
         "South"
        ],
        [
         "30",
         "Customer 30",
         "customer30@example.com",
         "East"
        ],
        [
         "31",
         "Customer 31",
         "customer31@example.com",
         "West"
        ],
        [
         "32",
         "Customer 32",
         "customer32@example.com",
         "North"
        ],
        [
         "33",
         "Customer 33",
         "customer33@example.com",
         "South"
        ],
        [
         "34",
         "Customer 34",
         "customer34@example.com",
         "East"
        ],
        [
         "35",
         "Customer 35",
         "customer35@example.com",
         "West"
        ],
        [
         "36",
         "Customer 36",
         "customer36@example.com",
         "North"
        ],
        [
         "37",
         "Customer 37",
         "customer37@example.com",
         "South"
        ],
        [
         "38",
         "Customer 38",
         "customer38@example.com",
         "East"
        ],
        [
         "39",
         "Customer 39",
         "customer39@example.com",
         "West"
        ],
        [
         "40",
         "Customer 40",
         "customer40@example.com",
         "North"
        ],
        [
         "41",
         "Customer 41",
         "customer41@example.com",
         "South"
        ],
        [
         "42",
         "Customer 42",
         "customer42@example.com",
         "East"
        ],
        [
         "43",
         "Customer 43",
         "customer43@example.com",
         "West"
        ],
        [
         "44",
         "Customer 44",
         "customer44@example.com",
         "North"
        ],
        [
         "45",
         "Customer 45",
         "customer45@example.com",
         "South"
        ],
        [
         "46",
         "Customer 46",
         "customer46@example.com",
         "East"
        ],
        [
         "47",
         "Customer 47",
         "customer47@example.com",
         "West"
        ],
        [
         "48",
         "Customer 48",
         "customer48@example.com",
         "North"
        ],
        [
         "49",
         "Customer 49",
         "customer49@example.com",
         "South"
        ],
        [
         "50",
         "Customer 50",
         "customer50@example.com",
         "East"
        ]
       ],
       "datasetInfos": [
        {
         "name": "_sqldf",
         "schema": {
          "fields": [
           {
            "metadata": {},
            "name": "customer_id",
            "nullable": true,
            "type": "string"
           },
           {
            "metadata": {},
            "name": "name",
            "nullable": true,
            "type": "string"
           },
           {
            "metadata": {},
            "name": "email",
            "nullable": true,
            "type": "string"
           },
           {
            "metadata": {},
            "name": "region",
            "nullable": true,
            "type": "string"
           }
          ],
          "type": "struct"
         },
         "tableIdentifier": null,
         "typeStr": "pyspark.sql.connect.dataframe.DataFrame"
        }
       ],
       "dbfsResultPath": null,
       "isJsonSchema": true,
       "metadata": {
        "createTempViewForImplicitDf": true,
        "dataframeName": "_sqldf",
        "executionCount": 10
       },
       "overflow": false,
       "plotOptions": {
        "customPlotOptions": {},
        "displayType": "table",
        "pivotAggregation": null,
        "pivotColumns": null,
        "xColumns": null,
        "yColumns": null
       },
       "removedWidgets": [],
       "schema": [
        {
         "metadata": "{}",
         "name": "customer_id",
         "type": "\"string\""
        },
        {
         "metadata": "{}",
         "name": "name",
         "type": "\"string\""
        },
        {
         "metadata": "{}",
         "name": "email",
         "type": "\"string\""
        },
        {
         "metadata": "{}",
         "name": "region",
         "type": "\"string\""
        }
       ],
       "type": "table"
      }
     },
     "output_type": "display_data"
    }
   ],
   "source": [
    "%sql\n",
    "select * from retail_catalog.bronze.customers_delta"
   ]
  },
  {
   "cell_type": "code",
   "execution_count": 0,
   "metadata": {
    "application/vnd.databricks.v1+cell": {
     "cellMetadata": {
      "byteLimit": 2048000,
      "implicitDf": true,
      "rowLimit": 10000
     },
     "inputWidgets": {},
     "nuid": "37e4be19-5a3c-4d1f-b27b-327db0683b8d",
     "showTitle": false,
     "tableResultSettingsMap": {},
     "title": ""
    }
   },
   "outputs": [
    {
     "data": {
      "text/html": [
       "<style scoped>\n",
       "  .table-result-container {\n",
       "    max-height: 300px;\n",
       "    overflow: auto;\n",
       "  }\n",
       "  table, th, td {\n",
       "    border: 1px solid black;\n",
       "    border-collapse: collapse;\n",
       "  }\n",
       "  th, td {\n",
       "    padding: 5px;\n",
       "  }\n",
       "  th {\n",
       "    text-align: left;\n",
       "  }\n",
       "</style><div class='table-result-container'><table class='table-result'><thead style='background-color: white'><tr><th>order_id</th><th>customer_id</th><th>product_id</th><th>quantity</th><th>order_date</th></tr></thead><tbody><tr><td>1001</td><td>39</td><td>124</td><td>2</td><td>2025-10-01</td></tr><tr><td>1002</td><td>47</td><td>145</td><td>5</td><td>2025-10-02</td></tr><tr><td>1003</td><td>27</td><td>135</td><td>5</td><td>2025-10-03</td></tr><tr><td>1004</td><td>32</td><td>123</td><td>2</td><td>2025-10-04</td></tr><tr><td>1005</td><td>39</td><td>147</td><td>3</td><td>2025-10-05</td></tr><tr><td>1006</td><td>8</td><td>127</td><td>2</td><td>2025-10-06</td></tr><tr><td>1007</td><td>9</td><td>133</td><td>5</td><td>2025-10-07</td></tr><tr><td>1008</td><td>6</td><td>112</td><td>3</td><td>2025-10-08</td></tr><tr><td>1009</td><td>48</td><td>116</td><td>4</td><td>2025-10-09</td></tr><tr><td>1010</td><td>44</td><td>144</td><td>1</td><td>2025-10-10</td></tr><tr><td>1011</td><td>6</td><td>110</td><td>5</td><td>2025-10-11</td></tr><tr><td>1012</td><td>33</td><td>106</td><td>4</td><td>2025-10-12</td></tr><tr><td>1013</td><td>23</td><td>127</td><td>3</td><td>2025-10-13</td></tr><tr><td>1014</td><td>15</td><td>110</td><td>5</td><td>2025-10-14</td></tr><tr><td>1015</td><td>27</td><td>141</td><td>4</td><td>2025-10-15</td></tr><tr><td>1016</td><td>26</td><td>139</td><td>3</td><td>2025-10-16</td></tr><tr><td>1017</td><td>40</td><td>144</td><td>5</td><td>2025-10-17</td></tr><tr><td>1018</td><td>11</td><td>102</td><td>2</td><td>2025-10-18</td></tr><tr><td>1019</td><td>44</td><td>118</td><td>2</td><td>2025-10-19</td></tr><tr><td>1020</td><td>20</td><td>137</td><td>2</td><td>2025-10-20</td></tr><tr><td>1021</td><td>35</td><td>111</td><td>1</td><td>2025-10-21</td></tr><tr><td>1022</td><td>44</td><td>145</td><td>2</td><td>2025-10-22</td></tr><tr><td>1023</td><td>29</td><td>103</td><td>1</td><td>2025-10-23</td></tr><tr><td>1024</td><td>21</td><td>112</td><td>3</td><td>2025-10-24</td></tr><tr><td>1025</td><td>24</td><td>145</td><td>2</td><td>2025-10-25</td></tr><tr><td>1026</td><td>23</td><td>119</td><td>5</td><td>2025-10-26</td></tr><tr><td>1027</td><td>46</td><td>115</td><td>4</td><td>2025-10-27</td></tr><tr><td>1028</td><td>24</td><td>134</td><td>4</td><td>2025-10-28</td></tr><tr><td>1029</td><td>41</td><td>110</td><td>3</td><td>2025-10-29</td></tr><tr><td>1030</td><td>17</td><td>132</td><td>4</td><td>2025-10-30</td></tr><tr><td>1031</td><td>7</td><td>150</td><td>5</td><td>2025-10-31</td></tr><tr><td>1032</td><td>42</td><td>148</td><td>4</td><td>2025-11-01</td></tr><tr><td>1033</td><td>21</td><td>117</td><td>1</td><td>2025-11-02</td></tr><tr><td>1034</td><td>28</td><td>150</td><td>5</td><td>2025-11-03</td></tr><tr><td>1035</td><td>5</td><td>106</td><td>4</td><td>2025-11-04</td></tr><tr><td>1036</td><td>28</td><td>105</td><td>1</td><td>2025-11-05</td></tr><tr><td>1037</td><td>42</td><td>115</td><td>3</td><td>2025-11-06</td></tr><tr><td>1038</td><td>2</td><td>101</td><td>3</td><td>2025-11-07</td></tr><tr><td>1039</td><td>40</td><td>132</td><td>3</td><td>2025-11-08</td></tr><tr><td>1040</td><td>28</td><td>143</td><td>5</td><td>2025-11-09</td></tr><tr><td>1041</td><td>39</td><td>123</td><td>5</td><td>2025-11-10</td></tr><tr><td>1042</td><td>1</td><td>110</td><td>1</td><td>2025-11-11</td></tr><tr><td>1043</td><td>41</td><td>147</td><td>1</td><td>2025-11-12</td></tr><tr><td>1044</td><td>48</td><td>131</td><td>2</td><td>2025-11-13</td></tr><tr><td>1045</td><td>42</td><td>105</td><td>1</td><td>2025-11-14</td></tr><tr><td>1046</td><td>34</td><td>110</td><td>5</td><td>2025-11-15</td></tr><tr><td>1047</td><td>13</td><td>131</td><td>2</td><td>2025-11-16</td></tr><tr><td>1048</td><td>48</td><td>111</td><td>3</td><td>2025-11-17</td></tr><tr><td>1049</td><td>34</td><td>143</td><td>5</td><td>2025-11-18</td></tr><tr><td>1050</td><td>23</td><td>129</td><td>4</td><td>2025-11-19</td></tr></tbody></table></div>"
      ]
     },
     "metadata": {
      "application/vnd.databricks.v1+output": {
       "addedWidgets": {},
       "aggData": [],
       "aggError": "",
       "aggOverflow": false,
       "aggSchema": [],
       "aggSeriesLimitReached": false,
       "aggType": "",
       "arguments": {},
       "columnCustomDisplayInfos": {},
       "data": [
        [
         "1001",
         "39",
         "124",
         "2",
         "2025-10-01"
        ],
        [
         "1002",
         "47",
         "145",
         "5",
         "2025-10-02"
        ],
        [
         "1003",
         "27",
         "135",
         "5",
         "2025-10-03"
        ],
        [
         "1004",
         "32",
         "123",
         "2",
         "2025-10-04"
        ],
        [
         "1005",
         "39",
         "147",
         "3",
         "2025-10-05"
        ],
        [
         "1006",
         "8",
         "127",
         "2",
         "2025-10-06"
        ],
        [
         "1007",
         "9",
         "133",
         "5",
         "2025-10-07"
        ],
        [
         "1008",
         "6",
         "112",
         "3",
         "2025-10-08"
        ],
        [
         "1009",
         "48",
         "116",
         "4",
         "2025-10-09"
        ],
        [
         "1010",
         "44",
         "144",
         "1",
         "2025-10-10"
        ],
        [
         "1011",
         "6",
         "110",
         "5",
         "2025-10-11"
        ],
        [
         "1012",
         "33",
         "106",
         "4",
         "2025-10-12"
        ],
        [
         "1013",
         "23",
         "127",
         "3",
         "2025-10-13"
        ],
        [
         "1014",
         "15",
         "110",
         "5",
         "2025-10-14"
        ],
        [
         "1015",
         "27",
         "141",
         "4",
         "2025-10-15"
        ],
        [
         "1016",
         "26",
         "139",
         "3",
         "2025-10-16"
        ],
        [
         "1017",
         "40",
         "144",
         "5",
         "2025-10-17"
        ],
        [
         "1018",
         "11",
         "102",
         "2",
         "2025-10-18"
        ],
        [
         "1019",
         "44",
         "118",
         "2",
         "2025-10-19"
        ],
        [
         "1020",
         "20",
         "137",
         "2",
         "2025-10-20"
        ],
        [
         "1021",
         "35",
         "111",
         "1",
         "2025-10-21"
        ],
        [
         "1022",
         "44",
         "145",
         "2",
         "2025-10-22"
        ],
        [
         "1023",
         "29",
         "103",
         "1",
         "2025-10-23"
        ],
        [
         "1024",
         "21",
         "112",
         "3",
         "2025-10-24"
        ],
        [
         "1025",
         "24",
         "145",
         "2",
         "2025-10-25"
        ],
        [
         "1026",
         "23",
         "119",
         "5",
         "2025-10-26"
        ],
        [
         "1027",
         "46",
         "115",
         "4",
         "2025-10-27"
        ],
        [
         "1028",
         "24",
         "134",
         "4",
         "2025-10-28"
        ],
        [
         "1029",
         "41",
         "110",
         "3",
         "2025-10-29"
        ],
        [
         "1030",
         "17",
         "132",
         "4",
         "2025-10-30"
        ],
        [
         "1031",
         "7",
         "150",
         "5",
         "2025-10-31"
        ],
        [
         "1032",
         "42",
         "148",
         "4",
         "2025-11-01"
        ],
        [
         "1033",
         "21",
         "117",
         "1",
         "2025-11-02"
        ],
        [
         "1034",
         "28",
         "150",
         "5",
         "2025-11-03"
        ],
        [
         "1035",
         "5",
         "106",
         "4",
         "2025-11-04"
        ],
        [
         "1036",
         "28",
         "105",
         "1",
         "2025-11-05"
        ],
        [
         "1037",
         "42",
         "115",
         "3",
         "2025-11-06"
        ],
        [
         "1038",
         "2",
         "101",
         "3",
         "2025-11-07"
        ],
        [
         "1039",
         "40",
         "132",
         "3",
         "2025-11-08"
        ],
        [
         "1040",
         "28",
         "143",
         "5",
         "2025-11-09"
        ],
        [
         "1041",
         "39",
         "123",
         "5",
         "2025-11-10"
        ],
        [
         "1042",
         "1",
         "110",
         "1",
         "2025-11-11"
        ],
        [
         "1043",
         "41",
         "147",
         "1",
         "2025-11-12"
        ],
        [
         "1044",
         "48",
         "131",
         "2",
         "2025-11-13"
        ],
        [
         "1045",
         "42",
         "105",
         "1",
         "2025-11-14"
        ],
        [
         "1046",
         "34",
         "110",
         "5",
         "2025-11-15"
        ],
        [
         "1047",
         "13",
         "131",
         "2",
         "2025-11-16"
        ],
        [
         "1048",
         "48",
         "111",
         "3",
         "2025-11-17"
        ],
        [
         "1049",
         "34",
         "143",
         "5",
         "2025-11-18"
        ],
        [
         "1050",
         "23",
         "129",
         "4",
         "2025-11-19"
        ]
       ],
       "datasetInfos": [
        {
         "name": "_sqldf",
         "schema": {
          "fields": [
           {
            "metadata": {},
            "name": "order_id",
            "nullable": true,
            "type": "string"
           },
           {
            "metadata": {},
            "name": "customer_id",
            "nullable": true,
            "type": "string"
           },
           {
            "metadata": {},
            "name": "product_id",
            "nullable": true,
            "type": "string"
           },
           {
            "metadata": {},
            "name": "quantity",
            "nullable": true,
            "type": "string"
           },
           {
            "metadata": {},
            "name": "order_date",
            "nullable": true,
            "type": "string"
           }
          ],
          "type": "struct"
         },
         "tableIdentifier": null,
         "typeStr": "pyspark.sql.connect.dataframe.DataFrame"
        }
       ],
       "dbfsResultPath": null,
       "isJsonSchema": true,
       "metadata": {
        "createTempViewForImplicitDf": true,
        "dataframeName": "_sqldf",
        "executionCount": 13
       },
       "overflow": false,
       "plotOptions": {
        "customPlotOptions": {},
        "displayType": "table",
        "pivotAggregation": null,
        "pivotColumns": null,
        "xColumns": null,
        "yColumns": null
       },
       "removedWidgets": [],
       "schema": [
        {
         "metadata": "{}",
         "name": "order_id",
         "type": "\"string\""
        },
        {
         "metadata": "{}",
         "name": "customer_id",
         "type": "\"string\""
        },
        {
         "metadata": "{}",
         "name": "product_id",
         "type": "\"string\""
        },
        {
         "metadata": "{}",
         "name": "quantity",
         "type": "\"string\""
        },
        {
         "metadata": "{}",
         "name": "order_date",
         "type": "\"string\""
        }
       ],
       "type": "table"
      }
     },
     "output_type": "display_data"
    }
   ],
   "source": [
    "%sql\n",
    "select * from retail_catalog.bronze.orders_delta"
   ]
  },
  {
   "cell_type": "code",
   "execution_count": 0,
   "metadata": {
    "application/vnd.databricks.v1+cell": {
     "cellMetadata": {
      "byteLimit": 2048000,
      "implicitDf": true,
      "rowLimit": 10000
     },
     "inputWidgets": {},
     "nuid": "3fca3cc7-f118-4bd1-8a28-c254385e5b1a",
     "showTitle": false,
     "tableResultSettingsMap": {},
     "title": ""
    }
   },
   "outputs": [
    {
     "data": {
      "text/html": [
       "<style scoped>\n",
       "  .table-result-container {\n",
       "    max-height: 300px;\n",
       "    overflow: auto;\n",
       "  }\n",
       "  table, th, td {\n",
       "    border: 1px solid black;\n",
       "    border-collapse: collapse;\n",
       "  }\n",
       "  th, td {\n",
       "    padding: 5px;\n",
       "  }\n",
       "  th {\n",
       "    text-align: left;\n",
       "  }\n",
       "</style><div class='table-result-container'><table class='table-result'><thead style='background-color: white'><tr><th>product_id</th><th>name</th><th>category</th><th>price</th></tr></thead><tbody><tr><td>101</td><td>Product 1</td><td>Category 1</td><td>10</td></tr><tr><td>102</td><td>Product 2</td><td>Category 2</td><td>20</td></tr><tr><td>103</td><td>Product 3</td><td>Category 3</td><td>30</td></tr><tr><td>104</td><td>Product 4</td><td>Category 4</td><td>40</td></tr><tr><td>105</td><td>Product 5</td><td>Category 5</td><td>50</td></tr><tr><td>106</td><td>Product 6</td><td>Category 1</td><td>60</td></tr><tr><td>107</td><td>Product 7</td><td>Category 2</td><td>70</td></tr><tr><td>108</td><td>Product 8</td><td>Category 3</td><td>80</td></tr><tr><td>109</td><td>Product 9</td><td>Category 4</td><td>90</td></tr><tr><td>110</td><td>Product 10</td><td>Category 5</td><td>100</td></tr><tr><td>111</td><td>Product 11</td><td>Category 1</td><td>110</td></tr><tr><td>112</td><td>Product 12</td><td>Category 2</td><td>120</td></tr><tr><td>113</td><td>Product 13</td><td>Category 3</td><td>130</td></tr><tr><td>114</td><td>Product 14</td><td>Category 4</td><td>140</td></tr><tr><td>115</td><td>Product 15</td><td>Category 5</td><td>150</td></tr><tr><td>116</td><td>Product 16</td><td>Category 1</td><td>160</td></tr><tr><td>117</td><td>Product 17</td><td>Category 2</td><td>170</td></tr><tr><td>118</td><td>Product 18</td><td>Category 3</td><td>180</td></tr><tr><td>119</td><td>Product 19</td><td>Category 4</td><td>190</td></tr><tr><td>120</td><td>Product 20</td><td>Category 5</td><td>200</td></tr><tr><td>121</td><td>Product 21</td><td>Category 1</td><td>210</td></tr><tr><td>122</td><td>Product 22</td><td>Category 2</td><td>220</td></tr><tr><td>123</td><td>Product 23</td><td>Category 3</td><td>230</td></tr><tr><td>124</td><td>Product 24</td><td>Category 4</td><td>240</td></tr><tr><td>125</td><td>Product 25</td><td>Category 5</td><td>250</td></tr><tr><td>126</td><td>Product 26</td><td>Category 1</td><td>260</td></tr><tr><td>127</td><td>Product 27</td><td>Category 2</td><td>270</td></tr><tr><td>128</td><td>Product 28</td><td>Category 3</td><td>280</td></tr><tr><td>129</td><td>Product 29</td><td>Category 4</td><td>290</td></tr><tr><td>130</td><td>Product 30</td><td>Category 5</td><td>300</td></tr><tr><td>131</td><td>Product 31</td><td>Category 1</td><td>310</td></tr><tr><td>132</td><td>Product 32</td><td>Category 2</td><td>320</td></tr><tr><td>133</td><td>Product 33</td><td>Category 3</td><td>330</td></tr><tr><td>134</td><td>Product 34</td><td>Category 4</td><td>340</td></tr><tr><td>135</td><td>Product 35</td><td>Category 5</td><td>350</td></tr><tr><td>136</td><td>Product 36</td><td>Category 1</td><td>360</td></tr><tr><td>137</td><td>Product 37</td><td>Category 2</td><td>370</td></tr><tr><td>138</td><td>Product 38</td><td>Category 3</td><td>380</td></tr><tr><td>139</td><td>Product 39</td><td>Category 4</td><td>390</td></tr><tr><td>140</td><td>Product 40</td><td>Category 5</td><td>400</td></tr><tr><td>141</td><td>Product 41</td><td>Category 1</td><td>410</td></tr><tr><td>142</td><td>Product 42</td><td>Category 2</td><td>420</td></tr><tr><td>143</td><td>Product 43</td><td>Category 3</td><td>430</td></tr><tr><td>144</td><td>Product 44</td><td>Category 4</td><td>440</td></tr><tr><td>145</td><td>Product 45</td><td>Category 5</td><td>450</td></tr><tr><td>146</td><td>Product 46</td><td>Category 1</td><td>460</td></tr><tr><td>147</td><td>Product 47</td><td>Category 2</td><td>470</td></tr><tr><td>148</td><td>Product 48</td><td>Category 3</td><td>480</td></tr><tr><td>149</td><td>Product 49</td><td>Category 4</td><td>490</td></tr><tr><td>150</td><td>Product 50</td><td>Category 5</td><td>500</td></tr></tbody></table></div>"
      ]
     },
     "metadata": {
      "application/vnd.databricks.v1+output": {
       "addedWidgets": {},
       "aggData": [],
       "aggError": "",
       "aggOverflow": false,
       "aggSchema": [],
       "aggSeriesLimitReached": false,
       "aggType": "",
       "arguments": {},
       "columnCustomDisplayInfos": {},
       "data": [
        [
         "101",
         "Product 1",
         "Category 1",
         "10"
        ],
        [
         "102",
         "Product 2",
         "Category 2",
         "20"
        ],
        [
         "103",
         "Product 3",
         "Category 3",
         "30"
        ],
        [
         "104",
         "Product 4",
         "Category 4",
         "40"
        ],
        [
         "105",
         "Product 5",
         "Category 5",
         "50"
        ],
        [
         "106",
         "Product 6",
         "Category 1",
         "60"
        ],
        [
         "107",
         "Product 7",
         "Category 2",
         "70"
        ],
        [
         "108",
         "Product 8",
         "Category 3",
         "80"
        ],
        [
         "109",
         "Product 9",
         "Category 4",
         "90"
        ],
        [
         "110",
         "Product 10",
         "Category 5",
         "100"
        ],
        [
         "111",
         "Product 11",
         "Category 1",
         "110"
        ],
        [
         "112",
         "Product 12",
         "Category 2",
         "120"
        ],
        [
         "113",
         "Product 13",
         "Category 3",
         "130"
        ],
        [
         "114",
         "Product 14",
         "Category 4",
         "140"
        ],
        [
         "115",
         "Product 15",
         "Category 5",
         "150"
        ],
        [
         "116",
         "Product 16",
         "Category 1",
         "160"
        ],
        [
         "117",
         "Product 17",
         "Category 2",
         "170"
        ],
        [
         "118",
         "Product 18",
         "Category 3",
         "180"
        ],
        [
         "119",
         "Product 19",
         "Category 4",
         "190"
        ],
        [
         "120",
         "Product 20",
         "Category 5",
         "200"
        ],
        [
         "121",
         "Product 21",
         "Category 1",
         "210"
        ],
        [
         "122",
         "Product 22",
         "Category 2",
         "220"
        ],
        [
         "123",
         "Product 23",
         "Category 3",
         "230"
        ],
        [
         "124",
         "Product 24",
         "Category 4",
         "240"
        ],
        [
         "125",
         "Product 25",
         "Category 5",
         "250"
        ],
        [
         "126",
         "Product 26",
         "Category 1",
         "260"
        ],
        [
         "127",
         "Product 27",
         "Category 2",
         "270"
        ],
        [
         "128",
         "Product 28",
         "Category 3",
         "280"
        ],
        [
         "129",
         "Product 29",
         "Category 4",
         "290"
        ],
        [
         "130",
         "Product 30",
         "Category 5",
         "300"
        ],
        [
         "131",
         "Product 31",
         "Category 1",
         "310"
        ],
        [
         "132",
         "Product 32",
         "Category 2",
         "320"
        ],
        [
         "133",
         "Product 33",
         "Category 3",
         "330"
        ],
        [
         "134",
         "Product 34",
         "Category 4",
         "340"
        ],
        [
         "135",
         "Product 35",
         "Category 5",
         "350"
        ],
        [
         "136",
         "Product 36",
         "Category 1",
         "360"
        ],
        [
         "137",
         "Product 37",
         "Category 2",
         "370"
        ],
        [
         "138",
         "Product 38",
         "Category 3",
         "380"
        ],
        [
         "139",
         "Product 39",
         "Category 4",
         "390"
        ],
        [
         "140",
         "Product 40",
         "Category 5",
         "400"
        ],
        [
         "141",
         "Product 41",
         "Category 1",
         "410"
        ],
        [
         "142",
         "Product 42",
         "Category 2",
         "420"
        ],
        [
         "143",
         "Product 43",
         "Category 3",
         "430"
        ],
        [
         "144",
         "Product 44",
         "Category 4",
         "440"
        ],
        [
         "145",
         "Product 45",
         "Category 5",
         "450"
        ],
        [
         "146",
         "Product 46",
         "Category 1",
         "460"
        ],
        [
         "147",
         "Product 47",
         "Category 2",
         "470"
        ],
        [
         "148",
         "Product 48",
         "Category 3",
         "480"
        ],
        [
         "149",
         "Product 49",
         "Category 4",
         "490"
        ],
        [
         "150",
         "Product 50",
         "Category 5",
         "500"
        ]
       ],
       "datasetInfos": [
        {
         "name": "_sqldf",
         "schema": {
          "fields": [
           {
            "metadata": {},
            "name": "product_id",
            "nullable": true,
            "type": "string"
           },
           {
            "metadata": {},
            "name": "name",
            "nullable": true,
            "type": "string"
           },
           {
            "metadata": {},
            "name": "category",
            "nullable": true,
            "type": "string"
           },
           {
            "metadata": {},
            "name": "price",
            "nullable": true,
            "type": "string"
           }
          ],
          "type": "struct"
         },
         "tableIdentifier": null,
         "typeStr": "pyspark.sql.connect.dataframe.DataFrame"
        }
       ],
       "dbfsResultPath": null,
       "isJsonSchema": true,
       "metadata": {
        "createTempViewForImplicitDf": true,
        "dataframeName": "_sqldf",
        "executionCount": 14
       },
       "overflow": false,
       "plotOptions": {
        "customPlotOptions": {},
        "displayType": "table",
        "pivotAggregation": null,
        "pivotColumns": null,
        "xColumns": null,
        "yColumns": null
       },
       "removedWidgets": [],
       "schema": [
        {
         "metadata": "{}",
         "name": "product_id",
         "type": "\"string\""
        },
        {
         "metadata": "{}",
         "name": "name",
         "type": "\"string\""
        },
        {
         "metadata": "{}",
         "name": "category",
         "type": "\"string\""
        },
        {
         "metadata": "{}",
         "name": "price",
         "type": "\"string\""
        }
       ],
       "type": "table"
      }
     },
     "output_type": "display_data"
    }
   ],
   "source": [
    "%sql\n",
    "select * from retail_catalog.bronze.products_delta"
   ]
  },
  {
   "cell_type": "code",
   "execution_count": 0,
   "metadata": {
    "application/vnd.databricks.v1+cell": {
     "cellMetadata": {
      "byteLimit": 2048000,
      "rowLimit": 10000
     },
     "inputWidgets": {},
     "nuid": "3c0eaf29-3cb7-4697-b385-9d9a252949db",
     "showTitle": true,
     "tableResultSettingsMap": {},
     "title": "Reading New Incremental Customer File"
    }
   },
   "outputs": [],
   "source": [
    "from pyspark.sql.functions import current_date\n",
    "df_customers_new = spark.read.schema(customers_schema).csv(\"/Volumes/retail_catalog/raw/raw_data/customers_incremental.csv\", header=True).withColumn(\"load_date\", current_date())"
   ]
  },
  {
   "cell_type": "code",
   "execution_count": 0,
   "metadata": {
    "application/vnd.databricks.v1+cell": {
     "cellMetadata": {
      "byteLimit": 2048000,
      "rowLimit": 10000
     },
     "inputWidgets": {},
     "nuid": "8bead4b2-d971-4e6f-b984-941c9fd2ff50",
     "showTitle": false,
     "tableResultSettingsMap": {},
     "title": ""
    }
   },
   "outputs": [
    {
     "data": {
      "text/html": [
       "<style scoped>\n",
       "  .table-result-container {\n",
       "    max-height: 300px;\n",
       "    overflow: auto;\n",
       "  }\n",
       "  table, th, td {\n",
       "    border: 1px solid black;\n",
       "    border-collapse: collapse;\n",
       "  }\n",
       "  th, td {\n",
       "    padding: 5px;\n",
       "  }\n",
       "  th {\n",
       "    text-align: left;\n",
       "  }\n",
       "</style><div class='table-result-container'><table class='table-result'><thead style='background-color: white'><tr><th>customer_id</th><th>first_name</th><th>last_name</th><th>email</th><th>load_date</th></tr></thead><tbody><tr><td>101</td><td>Emma</td><td>Green</td><td>emma.green@example.com</td><td>2025-10-27</td></tr><tr><td>102</td><td>David</td><td>King</td><td>david.king@example.com</td><td>2025-10-27</td></tr><tr><td>5</td><td>John</td><td>Smith</td><td>john.smith_updated@example.com</td><td>2025-10-27</td></tr></tbody></table></div>"
      ]
     },
     "metadata": {
      "application/vnd.databricks.v1+output": {
       "addedWidgets": {},
       "aggData": [],
       "aggError": "",
       "aggOverflow": false,
       "aggSchema": [],
       "aggSeriesLimitReached": false,
       "aggType": "",
       "arguments": {},
       "columnCustomDisplayInfos": {},
       "data": [
        [
         "101",
         "Emma",
         "Green",
         "emma.green@example.com",
         "2025-10-27"
        ],
        [
         "102",
         "David",
         "King",
         "david.king@example.com",
         "2025-10-27"
        ],
        [
         "5",
         "John",
         "Smith",
         "john.smith_updated@example.com",
         "2025-10-27"
        ]
       ],
       "datasetInfos": [],
       "dbfsResultPath": null,
       "isJsonSchema": true,
       "metadata": {},
       "overflow": false,
       "plotOptions": {
        "customPlotOptions": {},
        "displayType": "table",
        "pivotAggregation": null,
        "pivotColumns": null,
        "xColumns": null,
        "yColumns": null
       },
       "removedWidgets": [],
       "schema": [
        {
         "metadata": "{}",
         "name": "customer_id",
         "type": "\"string\""
        },
        {
         "metadata": "{}",
         "name": "first_name",
         "type": "\"string\""
        },
        {
         "metadata": "{}",
         "name": "last_name",
         "type": "\"string\""
        },
        {
         "metadata": "{}",
         "name": "email",
         "type": "\"string\""
        },
        {
         "metadata": "{}",
         "name": "load_date",
         "type": "\"string\""
        }
       ],
       "type": "table"
      }
     },
     "output_type": "display_data"
    }
   ],
   "source": [
    "df_customers_new.display()"
   ]
  },
  {
   "cell_type": "code",
   "execution_count": 0,
   "metadata": {
    "application/vnd.databricks.v1+cell": {
     "cellMetadata": {
      "byteLimit": 2048000,
      "rowLimit": 10000
     },
     "inputWidgets": {},
     "nuid": "62812858-12ac-407a-8970-2d467cb44292",
     "showTitle": true,
     "tableResultSettingsMap": {},
     "title": "Implement Incremental Logic"
    }
   },
   "outputs": [],
   "source": [
    "from delta.tables import DeltaTable\n",
    "bronze_customers = DeltaTable.forName(spark, \"retail_catalog.bronze.customers_delta\")\n",
    "\n"
   ]
  },
  {
   "cell_type": "code",
   "execution_count": 0,
   "metadata": {
    "application/vnd.databricks.v1+cell": {
     "cellMetadata": {
      "byteLimit": 2048000,
      "rowLimit": 10000
     },
     "inputWidgets": {},
     "nuid": "e2a92acb-e9ac-4c10-83ab-913dac0b6310",
     "showTitle": true,
     "tableResultSettingsMap": {},
     "title": "Implement Incremental Logic"
    }
   },
   "outputs": [
    {
     "data": {
      "text/plain": [
       "DataFrame[num_affected_rows: bigint, num_updated_rows: bigint, num_deleted_rows: bigint, num_inserted_rows: bigint]"
      ]
     },
     "execution_count": 53,
     "metadata": {},
     "output_type": "execute_result"
    }
   ],
   "source": [
    "bronze_customers.alias(\"t\") \\\n",
    "    .merge(\n",
    "        source=df_customers_new.alias(\"s\"),condition='t.customer_id=s.customer_id'\n",
    "        ) \\\n",
    "        .whenMatchedUpdateAll() \\\n",
    "        .whenNotMatchedInsertAll() \\\n",
    "        .execute()"
   ]
  },
  {
   "cell_type": "code",
   "execution_count": 0,
   "metadata": {
    "application/vnd.databricks.v1+cell": {
     "cellMetadata": {
      "byteLimit": 2048000,
      "implicitDf": true,
      "rowLimit": 10000
     },
     "inputWidgets": {},
     "nuid": "eb4ed29c-8f2c-4f5d-95ec-45196c2e9cb6",
     "showTitle": false,
     "tableResultSettingsMap": {},
     "title": ""
    }
   },
   "outputs": [
    {
     "data": {
      "text/html": [
       "<style scoped>\n",
       "  .table-result-container {\n",
       "    max-height: 300px;\n",
       "    overflow: auto;\n",
       "  }\n",
       "  table, th, td {\n",
       "    border: 1px solid black;\n",
       "    border-collapse: collapse;\n",
       "  }\n",
       "  th, td {\n",
       "    padding: 5px;\n",
       "  }\n",
       "  th {\n",
       "    text-align: left;\n",
       "  }\n",
       "</style><div class='table-result-container'><table class='table-result'><thead style='background-color: white'><tr><th>customer_id</th><th>name</th><th>email</th><th>region</th><th>load_date</th></tr></thead><tbody><tr><td>1</td><td>Customer 1</td><td>customer1@example.com</td><td>South</td><td>null</td></tr><tr><td>2</td><td>Customer 2</td><td>customer2@example.com</td><td>East</td><td>null</td></tr><tr><td>3</td><td>Customer 3</td><td>customer3@example.com</td><td>West</td><td>null</td></tr><tr><td>4</td><td>Customer 4</td><td>customer4@example.com</td><td>North</td><td>null</td></tr><tr><td>6</td><td>Customer 6</td><td>customer6@example.com</td><td>East</td><td>null</td></tr><tr><td>7</td><td>Customer 7</td><td>customer7@example.com</td><td>West</td><td>null</td></tr><tr><td>8</td><td>Customer 8</td><td>customer8@example.com</td><td>North</td><td>null</td></tr><tr><td>9</td><td>Customer 9</td><td>customer9@example.com</td><td>South</td><td>null</td></tr><tr><td>10</td><td>Customer 10</td><td>customer10@example.com</td><td>East</td><td>null</td></tr><tr><td>11</td><td>Customer 11</td><td>customer11@example.com</td><td>West</td><td>null</td></tr><tr><td>12</td><td>Customer 12</td><td>customer12@example.com</td><td>North</td><td>null</td></tr><tr><td>13</td><td>Customer 13</td><td>customer13@example.com</td><td>South</td><td>null</td></tr><tr><td>14</td><td>Customer 14</td><td>customer14@example.com</td><td>East</td><td>null</td></tr><tr><td>15</td><td>Customer 15</td><td>customer15@example.com</td><td>West</td><td>null</td></tr><tr><td>16</td><td>Customer 16</td><td>customer16@example.com</td><td>North</td><td>null</td></tr><tr><td>17</td><td>Customer 17</td><td>customer17@example.com</td><td>South</td><td>null</td></tr><tr><td>18</td><td>Customer 18</td><td>customer18@example.com</td><td>East</td><td>null</td></tr><tr><td>19</td><td>Customer 19</td><td>customer19@example.com</td><td>West</td><td>null</td></tr><tr><td>20</td><td>Customer 20</td><td>customer20@example.com</td><td>North</td><td>null</td></tr><tr><td>21</td><td>Customer 21</td><td>customer21@example.com</td><td>South</td><td>null</td></tr><tr><td>22</td><td>Customer 22</td><td>customer22@example.com</td><td>East</td><td>null</td></tr><tr><td>23</td><td>Customer 23</td><td>customer23@example.com</td><td>West</td><td>null</td></tr><tr><td>24</td><td>Customer 24</td><td>customer24@example.com</td><td>North</td><td>null</td></tr><tr><td>25</td><td>Customer 25</td><td>customer25@example.com</td><td>South</td><td>null</td></tr><tr><td>26</td><td>Customer 26</td><td>customer26@example.com</td><td>East</td><td>null</td></tr><tr><td>27</td><td>Customer 27</td><td>customer27@example.com</td><td>West</td><td>null</td></tr><tr><td>28</td><td>Customer 28</td><td>customer28@example.com</td><td>North</td><td>null</td></tr><tr><td>29</td><td>Customer 29</td><td>customer29@example.com</td><td>South</td><td>null</td></tr><tr><td>30</td><td>Customer 30</td><td>customer30@example.com</td><td>East</td><td>null</td></tr><tr><td>31</td><td>Customer 31</td><td>customer31@example.com</td><td>West</td><td>null</td></tr><tr><td>32</td><td>Customer 32</td><td>customer32@example.com</td><td>North</td><td>null</td></tr><tr><td>33</td><td>Customer 33</td><td>customer33@example.com</td><td>South</td><td>null</td></tr><tr><td>34</td><td>Customer 34</td><td>customer34@example.com</td><td>East</td><td>null</td></tr><tr><td>35</td><td>Customer 35</td><td>customer35@example.com</td><td>West</td><td>null</td></tr><tr><td>36</td><td>Customer 36</td><td>customer36@example.com</td><td>North</td><td>null</td></tr><tr><td>37</td><td>Customer 37</td><td>customer37@example.com</td><td>South</td><td>null</td></tr><tr><td>38</td><td>Customer 38</td><td>customer38@example.com</td><td>East</td><td>null</td></tr><tr><td>39</td><td>Customer 39</td><td>customer39@example.com</td><td>West</td><td>null</td></tr><tr><td>40</td><td>Customer 40</td><td>customer40@example.com</td><td>North</td><td>null</td></tr><tr><td>41</td><td>Customer 41</td><td>customer41@example.com</td><td>South</td><td>null</td></tr><tr><td>42</td><td>Customer 42</td><td>customer42@example.com</td><td>East</td><td>null</td></tr><tr><td>43</td><td>Customer 43</td><td>customer43@example.com</td><td>West</td><td>null</td></tr><tr><td>44</td><td>Customer 44</td><td>customer44@example.com</td><td>North</td><td>null</td></tr><tr><td>45</td><td>Customer 45</td><td>customer45@example.com</td><td>South</td><td>null</td></tr><tr><td>46</td><td>Customer 46</td><td>customer46@example.com</td><td>East</td><td>null</td></tr><tr><td>47</td><td>Customer 47</td><td>customer47@example.com</td><td>West</td><td>null</td></tr><tr><td>48</td><td>Customer 48</td><td>customer48@example.com</td><td>North</td><td>null</td></tr><tr><td>49</td><td>Customer 49</td><td>customer49@example.com</td><td>South</td><td>null</td></tr><tr><td>50</td><td>Customer 50</td><td>customer50@example.com</td><td>East</td><td>null</td></tr><tr><td>101</td><td>Emma</td><td>Green</td><td>emma.green@example.com</td><td>2025-10-29</td></tr><tr><td>102</td><td>David</td><td>King</td><td>david.king@example.com</td><td>2025-10-29</td></tr><tr><td>5</td><td>John</td><td>Smith</td><td>john.smith_updated@example.com</td><td>2025-10-29</td></tr></tbody></table></div>"
      ]
     },
     "metadata": {
      "application/vnd.databricks.v1+output": {
       "addedWidgets": {},
       "aggData": [],
       "aggError": "",
       "aggOverflow": false,
       "aggSchema": [],
       "aggSeriesLimitReached": false,
       "aggType": "",
       "arguments": {},
       "columnCustomDisplayInfos": {},
       "data": [
        [
         "1",
         "Customer 1",
         "customer1@example.com",
         "South",
         null
        ],
        [
         "2",
         "Customer 2",
         "customer2@example.com",
         "East",
         null
        ],
        [
         "3",
         "Customer 3",
         "customer3@example.com",
         "West",
         null
        ],
        [
         "4",
         "Customer 4",
         "customer4@example.com",
         "North",
         null
        ],
        [
         "6",
         "Customer 6",
         "customer6@example.com",
         "East",
         null
        ],
        [
         "7",
         "Customer 7",
         "customer7@example.com",
         "West",
         null
        ],
        [
         "8",
         "Customer 8",
         "customer8@example.com",
         "North",
         null
        ],
        [
         "9",
         "Customer 9",
         "customer9@example.com",
         "South",
         null
        ],
        [
         "10",
         "Customer 10",
         "customer10@example.com",
         "East",
         null
        ],
        [
         "11",
         "Customer 11",
         "customer11@example.com",
         "West",
         null
        ],
        [
         "12",
         "Customer 12",
         "customer12@example.com",
         "North",
         null
        ],
        [
         "13",
         "Customer 13",
         "customer13@example.com",
         "South",
         null
        ],
        [
         "14",
         "Customer 14",
         "customer14@example.com",
         "East",
         null
        ],
        [
         "15",
         "Customer 15",
         "customer15@example.com",
         "West",
         null
        ],
        [
         "16",
         "Customer 16",
         "customer16@example.com",
         "North",
         null
        ],
        [
         "17",
         "Customer 17",
         "customer17@example.com",
         "South",
         null
        ],
        [
         "18",
         "Customer 18",
         "customer18@example.com",
         "East",
         null
        ],
        [
         "19",
         "Customer 19",
         "customer19@example.com",
         "West",
         null
        ],
        [
         "20",
         "Customer 20",
         "customer20@example.com",
         "North",
         null
        ],
        [
         "21",
         "Customer 21",
         "customer21@example.com",
         "South",
         null
        ],
        [
         "22",
         "Customer 22",
         "customer22@example.com",
         "East",
         null
        ],
        [
         "23",
         "Customer 23",
         "customer23@example.com",
         "West",
         null
        ],
        [
         "24",
         "Customer 24",
         "customer24@example.com",
         "North",
         null
        ],
        [
         "25",
         "Customer 25",
         "customer25@example.com",
         "South",
         null
        ],
        [
         "26",
         "Customer 26",
         "customer26@example.com",
         "East",
         null
        ],
        [
         "27",
         "Customer 27",
         "customer27@example.com",
         "West",
         null
        ],
        [
         "28",
         "Customer 28",
         "customer28@example.com",
         "North",
         null
        ],
        [
         "29",
         "Customer 29",
         "customer29@example.com",
         "South",
         null
        ],
        [
         "30",
         "Customer 30",
         "customer30@example.com",
         "East",
         null
        ],
        [
         "31",
         "Customer 31",
         "customer31@example.com",
         "West",
         null
        ],
        [
         "32",
         "Customer 32",
         "customer32@example.com",
         "North",
         null
        ],
        [
         "33",
         "Customer 33",
         "customer33@example.com",
         "South",
         null
        ],
        [
         "34",
         "Customer 34",
         "customer34@example.com",
         "East",
         null
        ],
        [
         "35",
         "Customer 35",
         "customer35@example.com",
         "West",
         null
        ],
        [
         "36",
         "Customer 36",
         "customer36@example.com",
         "North",
         null
        ],
        [
         "37",
         "Customer 37",
         "customer37@example.com",
         "South",
         null
        ],
        [
         "38",
         "Customer 38",
         "customer38@example.com",
         "East",
         null
        ],
        [
         "39",
         "Customer 39",
         "customer39@example.com",
         "West",
         null
        ],
        [
         "40",
         "Customer 40",
         "customer40@example.com",
         "North",
         null
        ],
        [
         "41",
         "Customer 41",
         "customer41@example.com",
         "South",
         null
        ],
        [
         "42",
         "Customer 42",
         "customer42@example.com",
         "East",
         null
        ],
        [
         "43",
         "Customer 43",
         "customer43@example.com",
         "West",
         null
        ],
        [
         "44",
         "Customer 44",
         "customer44@example.com",
         "North",
         null
        ],
        [
         "45",
         "Customer 45",
         "customer45@example.com",
         "South",
         null
        ],
        [
         "46",
         "Customer 46",
         "customer46@example.com",
         "East",
         null
        ],
        [
         "47",
         "Customer 47",
         "customer47@example.com",
         "West",
         null
        ],
        [
         "48",
         "Customer 48",
         "customer48@example.com",
         "North",
         null
        ],
        [
         "49",
         "Customer 49",
         "customer49@example.com",
         "South",
         null
        ],
        [
         "50",
         "Customer 50",
         "customer50@example.com",
         "East",
         null
        ],
        [
         "101",
         "Emma",
         "Green",
         "emma.green@example.com",
         "2025-10-29"
        ],
        [
         "102",
         "David",
         "King",
         "david.king@example.com",
         "2025-10-29"
        ],
        [
         "5",
         "John",
         "Smith",
         "john.smith_updated@example.com",
         "2025-10-29"
        ]
       ],
       "datasetInfos": [
        {
         "name": "_sqldf",
         "schema": {
          "fields": [
           {
            "metadata": {},
            "name": "customer_id",
            "nullable": true,
            "type": "string"
           },
           {
            "metadata": {},
            "name": "name",
            "nullable": true,
            "type": "string"
           },
           {
            "metadata": {},
            "name": "email",
            "nullable": true,
            "type": "string"
           },
           {
            "metadata": {},
            "name": "region",
            "nullable": true,
            "type": "string"
           },
           {
            "metadata": {},
            "name": "load_date",
            "nullable": true,
            "type": "date"
           }
          ],
          "type": "struct"
         },
         "tableIdentifier": null,
         "typeStr": "pyspark.sql.connect.dataframe.DataFrame"
        }
       ],
       "dbfsResultPath": null,
       "isJsonSchema": true,
       "metadata": {
        "createTempViewForImplicitDf": true,
        "dataframeName": "_sqldf",
        "executionCount": 55
       },
       "overflow": false,
       "plotOptions": {
        "customPlotOptions": {},
        "displayType": "table",
        "pivotAggregation": null,
        "pivotColumns": null,
        "xColumns": null,
        "yColumns": null
       },
       "removedWidgets": [],
       "schema": [
        {
         "metadata": "{}",
         "name": "customer_id",
         "type": "\"string\""
        },
        {
         "metadata": "{}",
         "name": "name",
         "type": "\"string\""
        },
        {
         "metadata": "{}",
         "name": "email",
         "type": "\"string\""
        },
        {
         "metadata": "{}",
         "name": "region",
         "type": "\"string\""
        },
        {
         "metadata": "{}",
         "name": "load_date",
         "type": "\"date\""
        }
       ],
       "type": "table"
      }
     },
     "output_type": "display_data"
    }
   ],
   "source": [
    "%sql\n",
    "select * from retail_catalog.bronze.customers_delta"
   ]
  },
  {
   "cell_type": "code",
   "execution_count": 0,
   "metadata": {
    "application/vnd.databricks.v1+cell": {
     "cellMetadata": {
      "byteLimit": 2048000,
      "rowLimit": 10000
     },
     "inputWidgets": {},
     "nuid": "ee9e84a7-c6f6-444a-82ca-4708c68bf867",
     "showTitle": true,
     "tableResultSettingsMap": {},
     "title": "Run this before Incremental logic"
    }
   },
   "outputs": [
    {
     "data": {
      "text/plain": [
       "DataFrame[]"
      ]
     },
     "execution_count": 36,
     "metadata": {},
     "output_type": "execute_result"
    }
   ],
   "source": [
    "spark.sql(\"\"\"\n",
    "ALTER TABLE retail_catalog.bronze.customers_delta\n",
    "ADD COLUMNS (load_date DATE)\n",
    "\"\"\")"
   ]
  },
  {
   "cell_type": "code",
   "execution_count": 0,
   "metadata": {
    "application/vnd.databricks.v1+cell": {
     "cellMetadata": {
      "byteLimit": 2048000,
      "rowLimit": 10000
     },
     "inputWidgets": {},
     "nuid": "4a9404a7-4fb3-439f-b388-f11125f77b74",
     "showTitle": true,
     "tableResultSettingsMap": {},
     "title": "SInce we have load_date as null, let's backfill our load date using Coalesce_date"
    }
   },
   "outputs": [],
   "source": [
    "from pyspark.sql.functions import lit, col, coalesce\n",
    "\n",
    "df_bronze = spark.table('retail_catalog.bronze.customers_delta')\n",
    "\n",
    "df_bronze_backfilled = df_bronze.withColumn(\"load_date\", coalesce(col(\"load_date\"), lit(\"2025-10-25\").cast(\"date\")))\n",
    "\n",
    "df_bronze_backfilled.write.format(\"delta\").mode(\"overwrite\").option(\"overwriteSchema\", True).saveAsTable(\"retail_catalog.bronze.customers_delta\")"
   ]
  },
  {
   "cell_type": "code",
   "execution_count": 0,
   "metadata": {
    "application/vnd.databricks.v1+cell": {
     "cellMetadata": {
      "byteLimit": 2048000,
      "implicitDf": true,
      "rowLimit": 10000
     },
     "inputWidgets": {},
     "nuid": "95c63f6e-f116-4b29-b646-eef3cfe36208",
     "showTitle": false,
     "tableResultSettingsMap": {},
     "title": ""
    }
   },
   "outputs": [
    {
     "data": {
      "text/html": [
       "<style scoped>\n",
       "  .table-result-container {\n",
       "    max-height: 300px;\n",
       "    overflow: auto;\n",
       "  }\n",
       "  table, th, td {\n",
       "    border: 1px solid black;\n",
       "    border-collapse: collapse;\n",
       "  }\n",
       "  th, td {\n",
       "    padding: 5px;\n",
       "  }\n",
       "  th {\n",
       "    text-align: left;\n",
       "  }\n",
       "</style><div class='table-result-container'><table class='table-result'><thead style='background-color: white'><tr><th>customer_id</th><th>name</th><th>email</th><th>region</th><th>load_date</th></tr></thead><tbody><tr><td>1</td><td>Customer 1</td><td>customer1@example.com</td><td>South</td><td>2025-10-25</td></tr><tr><td>2</td><td>Customer 2</td><td>customer2@example.com</td><td>East</td><td>2025-10-25</td></tr><tr><td>3</td><td>Customer 3</td><td>customer3@example.com</td><td>West</td><td>2025-10-25</td></tr><tr><td>4</td><td>Customer 4</td><td>customer4@example.com</td><td>North</td><td>2025-10-25</td></tr><tr><td>6</td><td>Customer 6</td><td>customer6@example.com</td><td>East</td><td>2025-10-25</td></tr><tr><td>7</td><td>Customer 7</td><td>customer7@example.com</td><td>West</td><td>2025-10-25</td></tr><tr><td>8</td><td>Customer 8</td><td>customer8@example.com</td><td>North</td><td>2025-10-25</td></tr><tr><td>9</td><td>Customer 9</td><td>customer9@example.com</td><td>South</td><td>2025-10-25</td></tr><tr><td>10</td><td>Customer 10</td><td>customer10@example.com</td><td>East</td><td>2025-10-25</td></tr><tr><td>11</td><td>Customer 11</td><td>customer11@example.com</td><td>West</td><td>2025-10-25</td></tr><tr><td>12</td><td>Customer 12</td><td>customer12@example.com</td><td>North</td><td>2025-10-25</td></tr><tr><td>13</td><td>Customer 13</td><td>customer13@example.com</td><td>South</td><td>2025-10-25</td></tr><tr><td>14</td><td>Customer 14</td><td>customer14@example.com</td><td>East</td><td>2025-10-25</td></tr><tr><td>15</td><td>Customer 15</td><td>customer15@example.com</td><td>West</td><td>2025-10-25</td></tr><tr><td>16</td><td>Customer 16</td><td>customer16@example.com</td><td>North</td><td>2025-10-25</td></tr><tr><td>17</td><td>Customer 17</td><td>customer17@example.com</td><td>South</td><td>2025-10-25</td></tr><tr><td>18</td><td>Customer 18</td><td>customer18@example.com</td><td>East</td><td>2025-10-25</td></tr><tr><td>19</td><td>Customer 19</td><td>customer19@example.com</td><td>West</td><td>2025-10-25</td></tr><tr><td>20</td><td>Customer 20</td><td>customer20@example.com</td><td>North</td><td>2025-10-25</td></tr><tr><td>21</td><td>Customer 21</td><td>customer21@example.com</td><td>South</td><td>2025-10-25</td></tr><tr><td>22</td><td>Customer 22</td><td>customer22@example.com</td><td>East</td><td>2025-10-25</td></tr><tr><td>23</td><td>Customer 23</td><td>customer23@example.com</td><td>West</td><td>2025-10-25</td></tr><tr><td>24</td><td>Customer 24</td><td>customer24@example.com</td><td>North</td><td>2025-10-25</td></tr><tr><td>25</td><td>Customer 25</td><td>customer25@example.com</td><td>South</td><td>2025-10-25</td></tr><tr><td>26</td><td>Customer 26</td><td>customer26@example.com</td><td>East</td><td>2025-10-25</td></tr><tr><td>27</td><td>Customer 27</td><td>customer27@example.com</td><td>West</td><td>2025-10-25</td></tr><tr><td>28</td><td>Customer 28</td><td>customer28@example.com</td><td>North</td><td>2025-10-25</td></tr><tr><td>29</td><td>Customer 29</td><td>customer29@example.com</td><td>South</td><td>2025-10-25</td></tr><tr><td>30</td><td>Customer 30</td><td>customer30@example.com</td><td>East</td><td>2025-10-25</td></tr><tr><td>31</td><td>Customer 31</td><td>customer31@example.com</td><td>West</td><td>2025-10-25</td></tr><tr><td>32</td><td>Customer 32</td><td>customer32@example.com</td><td>North</td><td>2025-10-25</td></tr><tr><td>33</td><td>Customer 33</td><td>customer33@example.com</td><td>South</td><td>2025-10-25</td></tr><tr><td>34</td><td>Customer 34</td><td>customer34@example.com</td><td>East</td><td>2025-10-25</td></tr><tr><td>35</td><td>Customer 35</td><td>customer35@example.com</td><td>West</td><td>2025-10-25</td></tr><tr><td>36</td><td>Customer 36</td><td>customer36@example.com</td><td>North</td><td>2025-10-25</td></tr><tr><td>37</td><td>Customer 37</td><td>customer37@example.com</td><td>South</td><td>2025-10-25</td></tr><tr><td>38</td><td>Customer 38</td><td>customer38@example.com</td><td>East</td><td>2025-10-25</td></tr><tr><td>39</td><td>Customer 39</td><td>customer39@example.com</td><td>West</td><td>2025-10-25</td></tr><tr><td>40</td><td>Customer 40</td><td>customer40@example.com</td><td>North</td><td>2025-10-25</td></tr><tr><td>41</td><td>Customer 41</td><td>customer41@example.com</td><td>South</td><td>2025-10-25</td></tr><tr><td>42</td><td>Customer 42</td><td>customer42@example.com</td><td>East</td><td>2025-10-25</td></tr><tr><td>43</td><td>Customer 43</td><td>customer43@example.com</td><td>West</td><td>2025-10-25</td></tr><tr><td>44</td><td>Customer 44</td><td>customer44@example.com</td><td>North</td><td>2025-10-25</td></tr><tr><td>45</td><td>Customer 45</td><td>customer45@example.com</td><td>South</td><td>2025-10-25</td></tr><tr><td>46</td><td>Customer 46</td><td>customer46@example.com</td><td>East</td><td>2025-10-25</td></tr><tr><td>47</td><td>Customer 47</td><td>customer47@example.com</td><td>West</td><td>2025-10-25</td></tr><tr><td>48</td><td>Customer 48</td><td>customer48@example.com</td><td>North</td><td>2025-10-25</td></tr><tr><td>49</td><td>Customer 49</td><td>customer49@example.com</td><td>South</td><td>2025-10-25</td></tr><tr><td>50</td><td>Customer 50</td><td>customer50@example.com</td><td>East</td><td>2025-10-25</td></tr><tr><td>101</td><td>Emma</td><td>Green</td><td>emma.green@example.com</td><td>2025-10-29</td></tr><tr><td>102</td><td>David</td><td>King</td><td>david.king@example.com</td><td>2025-10-29</td></tr><tr><td>5</td><td>John</td><td>Smith</td><td>john.smith_updated@example.com</td><td>2025-10-29</td></tr></tbody></table></div>"
      ]
     },
     "metadata": {
      "application/vnd.databricks.v1+output": {
       "addedWidgets": {},
       "aggData": [],
       "aggError": "",
       "aggOverflow": false,
       "aggSchema": [],
       "aggSeriesLimitReached": false,
       "aggType": "",
       "arguments": {},
       "columnCustomDisplayInfos": {},
       "data": [
        [
         "1",
         "Customer 1",
         "customer1@example.com",
         "South",
         "2025-10-25"
        ],
        [
         "2",
         "Customer 2",
         "customer2@example.com",
         "East",
         "2025-10-25"
        ],
        [
         "3",
         "Customer 3",
         "customer3@example.com",
         "West",
         "2025-10-25"
        ],
        [
         "4",
         "Customer 4",
         "customer4@example.com",
         "North",
         "2025-10-25"
        ],
        [
         "6",
         "Customer 6",
         "customer6@example.com",
         "East",
         "2025-10-25"
        ],
        [
         "7",
         "Customer 7",
         "customer7@example.com",
         "West",
         "2025-10-25"
        ],
        [
         "8",
         "Customer 8",
         "customer8@example.com",
         "North",
         "2025-10-25"
        ],
        [
         "9",
         "Customer 9",
         "customer9@example.com",
         "South",
         "2025-10-25"
        ],
        [
         "10",
         "Customer 10",
         "customer10@example.com",
         "East",
         "2025-10-25"
        ],
        [
         "11",
         "Customer 11",
         "customer11@example.com",
         "West",
         "2025-10-25"
        ],
        [
         "12",
         "Customer 12",
         "customer12@example.com",
         "North",
         "2025-10-25"
        ],
        [
         "13",
         "Customer 13",
         "customer13@example.com",
         "South",
         "2025-10-25"
        ],
        [
         "14",
         "Customer 14",
         "customer14@example.com",
         "East",
         "2025-10-25"
        ],
        [
         "15",
         "Customer 15",
         "customer15@example.com",
         "West",
         "2025-10-25"
        ],
        [
         "16",
         "Customer 16",
         "customer16@example.com",
         "North",
         "2025-10-25"
        ],
        [
         "17",
         "Customer 17",
         "customer17@example.com",
         "South",
         "2025-10-25"
        ],
        [
         "18",
         "Customer 18",
         "customer18@example.com",
         "East",
         "2025-10-25"
        ],
        [
         "19",
         "Customer 19",
         "customer19@example.com",
         "West",
         "2025-10-25"
        ],
        [
         "20",
         "Customer 20",
         "customer20@example.com",
         "North",
         "2025-10-25"
        ],
        [
         "21",
         "Customer 21",
         "customer21@example.com",
         "South",
         "2025-10-25"
        ],
        [
         "22",
         "Customer 22",
         "customer22@example.com",
         "East",
         "2025-10-25"
        ],
        [
         "23",
         "Customer 23",
         "customer23@example.com",
         "West",
         "2025-10-25"
        ],
        [
         "24",
         "Customer 24",
         "customer24@example.com",
         "North",
         "2025-10-25"
        ],
        [
         "25",
         "Customer 25",
         "customer25@example.com",
         "South",
         "2025-10-25"
        ],
        [
         "26",
         "Customer 26",
         "customer26@example.com",
         "East",
         "2025-10-25"
        ],
        [
         "27",
         "Customer 27",
         "customer27@example.com",
         "West",
         "2025-10-25"
        ],
        [
         "28",
         "Customer 28",
         "customer28@example.com",
         "North",
         "2025-10-25"
        ],
        [
         "29",
         "Customer 29",
         "customer29@example.com",
         "South",
         "2025-10-25"
        ],
        [
         "30",
         "Customer 30",
         "customer30@example.com",
         "East",
         "2025-10-25"
        ],
        [
         "31",
         "Customer 31",
         "customer31@example.com",
         "West",
         "2025-10-25"
        ],
        [
         "32",
         "Customer 32",
         "customer32@example.com",
         "North",
         "2025-10-25"
        ],
        [
         "33",
         "Customer 33",
         "customer33@example.com",
         "South",
         "2025-10-25"
        ],
        [
         "34",
         "Customer 34",
         "customer34@example.com",
         "East",
         "2025-10-25"
        ],
        [
         "35",
         "Customer 35",
         "customer35@example.com",
         "West",
         "2025-10-25"
        ],
        [
         "36",
         "Customer 36",
         "customer36@example.com",
         "North",
         "2025-10-25"
        ],
        [
         "37",
         "Customer 37",
         "customer37@example.com",
         "South",
         "2025-10-25"
        ],
        [
         "38",
         "Customer 38",
         "customer38@example.com",
         "East",
         "2025-10-25"
        ],
        [
         "39",
         "Customer 39",
         "customer39@example.com",
         "West",
         "2025-10-25"
        ],
        [
         "40",
         "Customer 40",
         "customer40@example.com",
         "North",
         "2025-10-25"
        ],
        [
         "41",
         "Customer 41",
         "customer41@example.com",
         "South",
         "2025-10-25"
        ],
        [
         "42",
         "Customer 42",
         "customer42@example.com",
         "East",
         "2025-10-25"
        ],
        [
         "43",
         "Customer 43",
         "customer43@example.com",
         "West",
         "2025-10-25"
        ],
        [
         "44",
         "Customer 44",
         "customer44@example.com",
         "North",
         "2025-10-25"
        ],
        [
         "45",
         "Customer 45",
         "customer45@example.com",
         "South",
         "2025-10-25"
        ],
        [
         "46",
         "Customer 46",
         "customer46@example.com",
         "East",
         "2025-10-25"
        ],
        [
         "47",
         "Customer 47",
         "customer47@example.com",
         "West",
         "2025-10-25"
        ],
        [
         "48",
         "Customer 48",
         "customer48@example.com",
         "North",
         "2025-10-25"
        ],
        [
         "49",
         "Customer 49",
         "customer49@example.com",
         "South",
         "2025-10-25"
        ],
        [
         "50",
         "Customer 50",
         "customer50@example.com",
         "East",
         "2025-10-25"
        ],
        [
         "101",
         "Emma",
         "Green",
         "emma.green@example.com",
         "2025-10-29"
        ],
        [
         "102",
         "David",
         "King",
         "david.king@example.com",
         "2025-10-29"
        ],
        [
         "5",
         "John",
         "Smith",
         "john.smith_updated@example.com",
         "2025-10-29"
        ]
       ],
       "datasetInfos": [
        {
         "name": "_sqldf",
         "schema": {
          "fields": [
           {
            "metadata": {},
            "name": "customer_id",
            "nullable": true,
            "type": "string"
           },
           {
            "metadata": {},
            "name": "name",
            "nullable": true,
            "type": "string"
           },
           {
            "metadata": {},
            "name": "email",
            "nullable": true,
            "type": "string"
           },
           {
            "metadata": {},
            "name": "region",
            "nullable": true,
            "type": "string"
           },
           {
            "metadata": {},
            "name": "load_date",
            "nullable": true,
            "type": "date"
           }
          ],
          "type": "struct"
         },
         "tableIdentifier": null,
         "typeStr": "pyspark.sql.connect.dataframe.DataFrame"
        }
       ],
       "dbfsResultPath": null,
       "isJsonSchema": true,
       "metadata": {
        "createTempViewForImplicitDf": true,
        "dataframeName": "_sqldf",
        "executionCount": 77
       },
       "overflow": false,
       "plotOptions": {
        "customPlotOptions": {},
        "displayType": "table",
        "pivotAggregation": null,
        "pivotColumns": null,
        "xColumns": null,
        "yColumns": null
       },
       "removedWidgets": [],
       "schema": [
        {
         "metadata": "{}",
         "name": "customer_id",
         "type": "\"string\""
        },
        {
         "metadata": "{}",
         "name": "name",
         "type": "\"string\""
        },
        {
         "metadata": "{}",
         "name": "email",
         "type": "\"string\""
        },
        {
         "metadata": "{}",
         "name": "region",
         "type": "\"string\""
        },
        {
         "metadata": "{}",
         "name": "load_date",
         "type": "\"date\""
        }
       ],
       "type": "table"
      }
     },
     "output_type": "display_data"
    }
   ],
   "source": [
    "%sql\n",
    "select * from retail_catalog.bronze.customers_delta"
   ]
  }
 ],
 "metadata": {
  "application/vnd.databricks.v1+notebook": {
   "computePreferences": null,
   "dashboards": [],
   "environmentMetadata": {
    "base_environment": "",
    "environment_version": "4"
   },
   "inputWidgetPreferences": null,
   "language": "python",
   "notebookMetadata": {
    "mostRecentlyExecutedCommandWithImplicitDF": {
     "commandId": 5453680290693902,
     "dataframes": [
      "_sqldf"
     ]
    },
    "pythonIndentUnit": 4
   },
   "notebookName": "Shop Smart Project",
   "widgets": {}
  },
  "language_info": {
   "name": "python"
  }
 },
 "nbformat": 4,
 "nbformat_minor": 0
}
